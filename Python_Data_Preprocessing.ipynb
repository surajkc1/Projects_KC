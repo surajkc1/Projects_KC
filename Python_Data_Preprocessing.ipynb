{
  "nbformat": 4,
  "nbformat_minor": 0,
  "metadata": {
    "colab": {
      "provenance": [],
      "include_colab_link": true
    },
    "kernelspec": {
      "name": "python3",
      "display_name": "Python 3"
    },
    "language_info": {
      "name": "python"
    }
  },
  "cells": [
    {
      "cell_type": "markdown",
      "metadata": {
        "id": "view-in-github",
        "colab_type": "text"
      },
      "source": [
        "<a href=\"https://colab.research.google.com/github/surajkc1/AI_Assignment3/blob/main/Python_Data_Preprocessing.ipynb\" target=\"_parent\"><img src=\"https://colab.research.google.com/assets/colab-badge.svg\" alt=\"Open In Colab\"/></a>"
      ]
    },
    {
      "cell_type": "markdown",
      "source": [
        "Data Preprocessing\n",
        "\n",
        "1. Import Python Libraries\n",
        "    a. pandas\n",
        "    b. numpy\n",
        "    c. matplotlib+seaborn\n",
        "    d. scikit-learn\n",
        "\n",
        "2. Import Dataset\n",
        "    a. read_csv\n",
        "\n",
        "3. Divide data into Independent and Dependent\n",
        "    a. X (Independent)\n",
        "    b. y (Dependent)\n",
        "\n",
        "4. Missing Data\n",
        "    a. mean\n",
        "    b. median\n",
        "    c. constant\n",
        "    d. most frequent\n",
        "\n",
        "5. Categorical Data\n",
        "    a. OneHotEncoder\n",
        "    b. LabelEncoder\n",
        "\n",
        "6. Splitting Data into Train and Test\n",
        "    a. train (75-90%)\n",
        "    b. test (10-25%)\n",
        "\n",
        "7. Feature Scaling\n",
        "    a. StandardScaler"
      ],
      "metadata": {
        "id": "l1-Ph9Wpi40A"
      }
    },
    {
      "cell_type": "code",
      "execution_count": null,
      "metadata": {
        "id": "Vyaxz9jOil0v"
      },
      "outputs": [],
      "source": [
        "# importing python libraries\n",
        "\n",
        "import pandas as pd\n",
        "import numpy as np\n",
        "from matplotlib import pyplot as pyplot"
      ]
    },
    {
      "cell_type": "code",
      "source": [
        "# import dataset\n",
        "\n",
        "df = pd.read_csv(\"Data.csv\")\n",
        "df"
      ],
      "metadata": {
        "colab": {
          "base_uri": "https://localhost:8080/",
          "height": 363
        },
        "id": "gXyP6Z41rJJA",
        "outputId": "3fe358a4-a347-4109-ebd7-8d9cce64050f"
      },
      "execution_count": null,
      "outputs": [
        {
          "output_type": "execute_result",
          "data": {
            "text/plain": [
              "   Country   Age   Salary Purchased\n",
              "0   France  44.0  72000.0        No\n",
              "1    Spain  27.0  48000.0       Yes\n",
              "2  Germany  30.0  54000.0        No\n",
              "3    Spain  38.0  61000.0        No\n",
              "4  Germany  40.0      NaN       Yes\n",
              "5   France  35.0  58000.0       Yes\n",
              "6    Spain   NaN  52000.0        No\n",
              "7   France  48.0  79000.0       Yes\n",
              "8  Germany  50.0  83000.0        No\n",
              "9   France  37.0  67000.0       Yes"
            ],
            "text/html": [
              "\n",
              "  <div id=\"df-5cc31b6f-bce9-4a8e-afed-c7a494450e93\">\n",
              "    <div class=\"colab-df-container\">\n",
              "      <div>\n",
              "<style scoped>\n",
              "    .dataframe tbody tr th:only-of-type {\n",
              "        vertical-align: middle;\n",
              "    }\n",
              "\n",
              "    .dataframe tbody tr th {\n",
              "        vertical-align: top;\n",
              "    }\n",
              "\n",
              "    .dataframe thead th {\n",
              "        text-align: right;\n",
              "    }\n",
              "</style>\n",
              "<table border=\"1\" class=\"dataframe\">\n",
              "  <thead>\n",
              "    <tr style=\"text-align: right;\">\n",
              "      <th></th>\n",
              "      <th>Country</th>\n",
              "      <th>Age</th>\n",
              "      <th>Salary</th>\n",
              "      <th>Purchased</th>\n",
              "    </tr>\n",
              "  </thead>\n",
              "  <tbody>\n",
              "    <tr>\n",
              "      <th>0</th>\n",
              "      <td>France</td>\n",
              "      <td>44.0</td>\n",
              "      <td>72000.0</td>\n",
              "      <td>No</td>\n",
              "    </tr>\n",
              "    <tr>\n",
              "      <th>1</th>\n",
              "      <td>Spain</td>\n",
              "      <td>27.0</td>\n",
              "      <td>48000.0</td>\n",
              "      <td>Yes</td>\n",
              "    </tr>\n",
              "    <tr>\n",
              "      <th>2</th>\n",
              "      <td>Germany</td>\n",
              "      <td>30.0</td>\n",
              "      <td>54000.0</td>\n",
              "      <td>No</td>\n",
              "    </tr>\n",
              "    <tr>\n",
              "      <th>3</th>\n",
              "      <td>Spain</td>\n",
              "      <td>38.0</td>\n",
              "      <td>61000.0</td>\n",
              "      <td>No</td>\n",
              "    </tr>\n",
              "    <tr>\n",
              "      <th>4</th>\n",
              "      <td>Germany</td>\n",
              "      <td>40.0</td>\n",
              "      <td>NaN</td>\n",
              "      <td>Yes</td>\n",
              "    </tr>\n",
              "    <tr>\n",
              "      <th>5</th>\n",
              "      <td>France</td>\n",
              "      <td>35.0</td>\n",
              "      <td>58000.0</td>\n",
              "      <td>Yes</td>\n",
              "    </tr>\n",
              "    <tr>\n",
              "      <th>6</th>\n",
              "      <td>Spain</td>\n",
              "      <td>NaN</td>\n",
              "      <td>52000.0</td>\n",
              "      <td>No</td>\n",
              "    </tr>\n",
              "    <tr>\n",
              "      <th>7</th>\n",
              "      <td>France</td>\n",
              "      <td>48.0</td>\n",
              "      <td>79000.0</td>\n",
              "      <td>Yes</td>\n",
              "    </tr>\n",
              "    <tr>\n",
              "      <th>8</th>\n",
              "      <td>Germany</td>\n",
              "      <td>50.0</td>\n",
              "      <td>83000.0</td>\n",
              "      <td>No</td>\n",
              "    </tr>\n",
              "    <tr>\n",
              "      <th>9</th>\n",
              "      <td>France</td>\n",
              "      <td>37.0</td>\n",
              "      <td>67000.0</td>\n",
              "      <td>Yes</td>\n",
              "    </tr>\n",
              "  </tbody>\n",
              "</table>\n",
              "</div>\n",
              "      <button class=\"colab-df-convert\" onclick=\"convertToInteractive('df-5cc31b6f-bce9-4a8e-afed-c7a494450e93')\"\n",
              "              title=\"Convert this dataframe to an interactive table.\"\n",
              "              style=\"display:none;\">\n",
              "        \n",
              "  <svg xmlns=\"http://www.w3.org/2000/svg\" height=\"24px\"viewBox=\"0 0 24 24\"\n",
              "       width=\"24px\">\n",
              "    <path d=\"M0 0h24v24H0V0z\" fill=\"none\"/>\n",
              "    <path d=\"M18.56 5.44l.94 2.06.94-2.06 2.06-.94-2.06-.94-.94-2.06-.94 2.06-2.06.94zm-11 1L8.5 8.5l.94-2.06 2.06-.94-2.06-.94L8.5 2.5l-.94 2.06-2.06.94zm10 10l.94 2.06.94-2.06 2.06-.94-2.06-.94-.94-2.06-.94 2.06-2.06.94z\"/><path d=\"M17.41 7.96l-1.37-1.37c-.4-.4-.92-.59-1.43-.59-.52 0-1.04.2-1.43.59L10.3 9.45l-7.72 7.72c-.78.78-.78 2.05 0 2.83L4 21.41c.39.39.9.59 1.41.59.51 0 1.02-.2 1.41-.59l7.78-7.78 2.81-2.81c.8-.78.8-2.07 0-2.86zM5.41 20L4 18.59l7.72-7.72 1.47 1.35L5.41 20z\"/>\n",
              "  </svg>\n",
              "      </button>\n",
              "      \n",
              "  <style>\n",
              "    .colab-df-container {\n",
              "      display:flex;\n",
              "      flex-wrap:wrap;\n",
              "      gap: 12px;\n",
              "    }\n",
              "\n",
              "    .colab-df-convert {\n",
              "      background-color: #E8F0FE;\n",
              "      border: none;\n",
              "      border-radius: 50%;\n",
              "      cursor: pointer;\n",
              "      display: none;\n",
              "      fill: #1967D2;\n",
              "      height: 32px;\n",
              "      padding: 0 0 0 0;\n",
              "      width: 32px;\n",
              "    }\n",
              "\n",
              "    .colab-df-convert:hover {\n",
              "      background-color: #E2EBFA;\n",
              "      box-shadow: 0px 1px 2px rgba(60, 64, 67, 0.3), 0px 1px 3px 1px rgba(60, 64, 67, 0.15);\n",
              "      fill: #174EA6;\n",
              "    }\n",
              "\n",
              "    [theme=dark] .colab-df-convert {\n",
              "      background-color: #3B4455;\n",
              "      fill: #D2E3FC;\n",
              "    }\n",
              "\n",
              "    [theme=dark] .colab-df-convert:hover {\n",
              "      background-color: #434B5C;\n",
              "      box-shadow: 0px 1px 3px 1px rgba(0, 0, 0, 0.15);\n",
              "      filter: drop-shadow(0px 1px 2px rgba(0, 0, 0, 0.3));\n",
              "      fill: #FFFFFF;\n",
              "    }\n",
              "  </style>\n",
              "\n",
              "      <script>\n",
              "        const buttonEl =\n",
              "          document.querySelector('#df-5cc31b6f-bce9-4a8e-afed-c7a494450e93 button.colab-df-convert');\n",
              "        buttonEl.style.display =\n",
              "          google.colab.kernel.accessAllowed ? 'block' : 'none';\n",
              "\n",
              "        async function convertToInteractive(key) {\n",
              "          const element = document.querySelector('#df-5cc31b6f-bce9-4a8e-afed-c7a494450e93');\n",
              "          const dataTable =\n",
              "            await google.colab.kernel.invokeFunction('convertToInteractive',\n",
              "                                                     [key], {});\n",
              "          if (!dataTable) return;\n",
              "\n",
              "          const docLinkHtml = 'Like what you see? Visit the ' +\n",
              "            '<a target=\"_blank\" href=https://colab.research.google.com/notebooks/data_table.ipynb>data table notebook</a>'\n",
              "            + ' to learn more about interactive tables.';\n",
              "          element.innerHTML = '';\n",
              "          dataTable['output_type'] = 'display_data';\n",
              "          await google.colab.output.renderOutput(dataTable, element);\n",
              "          const docLink = document.createElement('div');\n",
              "          docLink.innerHTML = docLinkHtml;\n",
              "          element.appendChild(docLink);\n",
              "        }\n",
              "      </script>\n",
              "    </div>\n",
              "  </div>\n",
              "  "
            ]
          },
          "metadata": {},
          "execution_count": 24
        }
      ]
    },
    {
      "cell_type": "code",
      "source": [
        "# Divide data into Independent and Dependent\n",
        "\n",
        "X = df.iloc[:, 0:-1].values\n",
        "y = df.iloc[:,-1].values"
      ],
      "metadata": {
        "id": "XtHXM29Ur-uu"
      },
      "execution_count": null,
      "outputs": []
    },
    {
      "cell_type": "code",
      "source": [
        "print(X)"
      ],
      "metadata": {
        "colab": {
          "base_uri": "https://localhost:8080/"
        },
        "id": "ehXXfZFysXEv",
        "outputId": "48dff551-3504-46cd-8d69-95184c15d28a"
      },
      "execution_count": null,
      "outputs": [
        {
          "output_type": "stream",
          "name": "stdout",
          "text": [
            "[['France' 44.0 72000.0]\n",
            " ['Spain' 27.0 48000.0]\n",
            " ['Germany' 30.0 54000.0]\n",
            " ['Spain' 38.0 61000.0]\n",
            " ['Germany' 40.0 nan]\n",
            " ['France' 35.0 58000.0]\n",
            " ['Spain' nan 52000.0]\n",
            " ['France' 48.0 79000.0]\n",
            " ['Germany' 50.0 83000.0]\n",
            " ['France' 37.0 67000.0]]\n"
          ]
        }
      ]
    },
    {
      "cell_type": "code",
      "source": [
        "print(y)"
      ],
      "metadata": {
        "colab": {
          "base_uri": "https://localhost:8080/"
        },
        "id": "I4sMzXaXsaxH",
        "outputId": "c190eaaa-a122-4cfb-a047-cf5348151765"
      },
      "execution_count": null,
      "outputs": [
        {
          "output_type": "stream",
          "name": "stdout",
          "text": [
            "['No' 'Yes' 'No' 'No' 'Yes' 'Yes' 'No' 'Yes' 'No' 'Yes']\n"
          ]
        }
      ]
    },
    {
      "cell_type": "code",
      "source": [
        "# Missing Data\n",
        "\n",
        "from sklearn.impute import SimpleImputer\n",
        "# https://scikit-learn.org/stable/modules/generated/sklearn.impute.SimpleImputer.html\n",
        "imputer = SimpleImputer(missing_values=np.nan, strategy='mean')\n",
        "imputer.fit(X[:,1:3])\n",
        "X[:,1:3]= imputer.transform(X[:,1:3])\n",
        "X"
      ],
      "metadata": {
        "colab": {
          "base_uri": "https://localhost:8080/"
        },
        "id": "LeytgkgysfwX",
        "outputId": "6a20ad61-9982-4ea5-f421-278b4179cbd7"
      },
      "execution_count": null,
      "outputs": [
        {
          "output_type": "execute_result",
          "data": {
            "text/plain": [
              "array([['France', 44.0, 72000.0],\n",
              "       ['Spain', 27.0, 48000.0],\n",
              "       ['Germany', 30.0, 54000.0],\n",
              "       ['Spain', 38.0, 61000.0],\n",
              "       ['Germany', 40.0, 63777.77777777778],\n",
              "       ['France', 35.0, 58000.0],\n",
              "       ['Spain', 38.77777777777778, 52000.0],\n",
              "       ['France', 48.0, 79000.0],\n",
              "       ['Germany', 50.0, 83000.0],\n",
              "       ['France', 37.0, 67000.0]], dtype=object)"
            ]
          },
          "metadata": {},
          "execution_count": 28
        }
      ]
    },
    {
      "cell_type": "markdown",
      "source": [
        "![image.png](data:image/png;base64,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)"
      ],
      "metadata": {
        "id": "u6pwYinlz681"
      }
    },
    {
      "cell_type": "code",
      "source": [
        "from IPython.utils.sysinfo import encoding\n",
        "# Categorical Data\n",
        "\n",
        "from sklearn.compose import ColumnTransformer\n",
        "# https://scikit-learn.org/stable/modules/generated/sklearn.compose.ColumnTransformer.html?highlight=sklearn+compose+columntransformer#sklearn.compose.ColumnTransformer\n",
        "from sklearn.preprocessing import OneHotEncoder\n",
        "# https://scikit-learn.org/stable/modules/generated/sklearn.preprocessing.OneHotEncoder.html?highlight=sklearn+preprocessing+onehotencoder#sklearn.preprocessing.OneHotEncoder\n",
        "ct = ColumnTransformer(transformers=[('encoder', OneHotEncoder(), [0])], remainder='passthrough')\n",
        "X = np.array(ct.fit_transform(X))\n",
        "X"
      ],
      "metadata": {
        "colab": {
          "base_uri": "https://localhost:8080/"
        },
        "id": "gPEQxsdvxWTA",
        "outputId": "a0825b73-5925-4604-8ddf-d43d036f6bad"
      },
      "execution_count": null,
      "outputs": [
        {
          "output_type": "execute_result",
          "data": {
            "text/plain": [
              "array([[1.0, 0.0, 0.0, 44.0, 72000.0],\n",
              "       [0.0, 0.0, 1.0, 27.0, 48000.0],\n",
              "       [0.0, 1.0, 0.0, 30.0, 54000.0],\n",
              "       [0.0, 0.0, 1.0, 38.0, 61000.0],\n",
              "       [0.0, 1.0, 0.0, 40.0, 63777.77777777778],\n",
              "       [1.0, 0.0, 0.0, 35.0, 58000.0],\n",
              "       [0.0, 0.0, 1.0, 38.77777777777778, 52000.0],\n",
              "       [1.0, 0.0, 0.0, 48.0, 79000.0],\n",
              "       [0.0, 1.0, 0.0, 50.0, 83000.0],\n",
              "       [1.0, 0.0, 0.0, 37.0, 67000.0]], dtype=object)"
            ]
          },
          "metadata": {},
          "execution_count": 29
        }
      ]
    },
    {
      "cell_type": "code",
      "source": [
        "from sklearn.preprocessing import LabelEncoder\n",
        "# https://scikit-learn.org/stable/modules/generated/sklearn.preprocessing.LabelEncoder.html?highlight=sklearn+preprocessing+labelencoder#sklearn.preprocessing.LabelEncoder\n",
        "le = LabelEncoder()\n",
        "y = le.fit_transform(y)\n",
        "y"
      ],
      "metadata": {
        "colab": {
          "base_uri": "https://localhost:8080/"
        },
        "id": "czfiEhQ81oVH",
        "outputId": "1489d2f7-4196-47a7-fffb-149428a0d056"
      },
      "execution_count": null,
      "outputs": [
        {
          "output_type": "execute_result",
          "data": {
            "text/plain": [
              "array([0, 1, 0, 0, 1, 1, 0, 1, 0, 1])"
            ]
          },
          "metadata": {},
          "execution_count": 30
        }
      ]
    },
    {
      "cell_type": "code",
      "source": [
        "# Train and Test Split\n",
        "\n",
        "from sklearn.model_selection import train_test_split\n",
        "X_train, X_test, y_train, y_test = train_test_split(X, y, train_size=0.8, random_state=0)\n",
        "# https://scikit-learn.org/stable/modules/generated/sklearn.model_selection.train_test_split.html?highlight=sklearn+train_test_split#sklearn.model_selection.train_test_split\n",
        "# X_train, X_test, y_train, y_test = train_test_split(X, y, test_size=0.2, random_state=0)"
      ],
      "metadata": {
        "id": "ZiT-qh3H2V_W"
      },
      "execution_count": null,
      "outputs": []
    },
    {
      "cell_type": "code",
      "source": [
        "X_train, X_test, y_train, y_test"
      ],
      "metadata": {
        "colab": {
          "base_uri": "https://localhost:8080/"
        },
        "id": "Ek0AE9J-2lND",
        "outputId": "7c729e07-33ef-4e4b-c80e-bdef57f815fa"
      },
      "execution_count": null,
      "outputs": [
        {
          "output_type": "execute_result",
          "data": {
            "text/plain": [
              "(array([[0.0, 1.0, 0.0, 40.0, 63777.77777777778],\n",
              "        [1.0, 0.0, 0.0, 37.0, 67000.0],\n",
              "        [0.0, 0.0, 1.0, 27.0, 48000.0],\n",
              "        [0.0, 0.0, 1.0, 38.77777777777778, 52000.0],\n",
              "        [1.0, 0.0, 0.0, 48.0, 79000.0],\n",
              "        [0.0, 0.0, 1.0, 38.0, 61000.0],\n",
              "        [1.0, 0.0, 0.0, 44.0, 72000.0],\n",
              "        [1.0, 0.0, 0.0, 35.0, 58000.0]], dtype=object),\n",
              " array([[0.0, 1.0, 0.0, 30.0, 54000.0],\n",
              "        [0.0, 1.0, 0.0, 50.0, 83000.0]], dtype=object),\n",
              " array([1, 1, 1, 0, 1, 0, 0, 1]),\n",
              " array([0, 0]))"
            ]
          },
          "metadata": {},
          "execution_count": 32
        }
      ]
    },
    {
      "cell_type": "code",
      "source": [
        "from sklearn.preprocessing import StandardScaler\n",
        "sc = StandardScaler()\n",
        "X_train[:, 3:] = sc.fit_transform(X_train[:, 3:])\n",
        "X_test[:, 3:] = sc.transform(X_test[:, 3:])"
      ],
      "metadata": {
        "id": "B5S3ZzSr3xxA"
      },
      "execution_count": null,
      "outputs": []
    },
    {
      "cell_type": "code",
      "source": [
        "X_train, X_test, y_train, y_test"
      ],
      "metadata": {
        "colab": {
          "base_uri": "https://localhost:8080/"
        },
        "id": "WBnGJ_8839mZ",
        "outputId": "a4a0bf2d-013c-43c8-a9c4-68e8616d95dd"
      },
      "execution_count": null,
      "outputs": [
        {
          "output_type": "execute_result",
          "data": {
            "text/plain": [
              "(array([[0.0, 1.0, 0.0, 0.2630675731713538, 0.1238147854838185],\n",
              "        [1.0, 0.0, 0.0, -0.25350147960148617, 0.4617563176278856],\n",
              "        [0.0, 0.0, 1.0, -1.9753983221776195, -1.5309334063940294],\n",
              "        [0.0, 0.0, 1.0, 0.05261351463427101, -1.1114197802841526],\n",
              "        [1.0, 0.0, 0.0, 1.6405850472322605, 1.7202971959575162],\n",
              "        [0.0, 0.0, 1.0, -0.08131179534387283, -0.16751412153692966],\n",
              "        [1.0, 0.0, 0.0, 0.9518263102018072, 0.9861483502652316],\n",
              "        [1.0, 0.0, 0.0, -0.5978808481167128, -0.48214934111933727]],\n",
              "       dtype=object),\n",
              " array([[0.0, 1.0, 0.0, -1.4588292694047795, -0.9016629672292141],\n",
              "        [0.0, 1.0, 0.0, 1.984964415747487, 2.139810822067393]],\n",
              "       dtype=object),\n",
              " array([1, 1, 1, 0, 1, 0, 0, 1]),\n",
              " array([0, 0]))"
            ]
          },
          "metadata": {},
          "execution_count": 34
        }
      ]
    },
    {
      "cell_type": "code",
      "source": [
        "import pandas as pd\n",
        "import numpy as np\n",
        "from matplotlib import pyplot as plt"
      ],
      "metadata": {
        "id": "sNeaL7v44wD9"
      },
      "execution_count": null,
      "outputs": []
    },
    {
      "cell_type": "code",
      "source": [
        "col_df = pd.read_csv(\"Data2.csv\")\n",
        "col_df"
      ],
      "metadata": {
        "colab": {
          "base_uri": "https://localhost:8080/",
          "height": 363
        },
        "id": "S8WP5P1U45e8",
        "outputId": "17a1aa3b-10b2-4d95-cb1b-e55e7ba7d89c"
      },
      "execution_count": null,
      "outputs": [
        {
          "output_type": "execute_result",
          "data": {
            "text/plain": [
              "   Country   color   Salary Purchased\n",
              "0   France    blue  72000.0        No\n",
              "1    Spain   green  48000.0       Yes\n",
              "2  Germany  yellow  54000.0        No\n",
              "3    Spain  orange  61000.0        No\n",
              "4  Germany    blue      NaN       Yes\n",
              "5   France  yellow  58000.0       Yes\n",
              "6    Spain  orange  52000.0        No\n",
              "7   France   green  79000.0       Yes\n",
              "8  Germany  yellow  83000.0        No\n",
              "9   France   green  67000.0       Yes"
            ],
            "text/html": [
              "\n",
              "  <div id=\"df-3f60adfa-b6f3-4029-828f-90c27a386c67\">\n",
              "    <div class=\"colab-df-container\">\n",
              "      <div>\n",
              "<style scoped>\n",
              "    .dataframe tbody tr th:only-of-type {\n",
              "        vertical-align: middle;\n",
              "    }\n",
              "\n",
              "    .dataframe tbody tr th {\n",
              "        vertical-align: top;\n",
              "    }\n",
              "\n",
              "    .dataframe thead th {\n",
              "        text-align: right;\n",
              "    }\n",
              "</style>\n",
              "<table border=\"1\" class=\"dataframe\">\n",
              "  <thead>\n",
              "    <tr style=\"text-align: right;\">\n",
              "      <th></th>\n",
              "      <th>Country</th>\n",
              "      <th>color</th>\n",
              "      <th>Salary</th>\n",
              "      <th>Purchased</th>\n",
              "    </tr>\n",
              "  </thead>\n",
              "  <tbody>\n",
              "    <tr>\n",
              "      <th>0</th>\n",
              "      <td>France</td>\n",
              "      <td>blue</td>\n",
              "      <td>72000.0</td>\n",
              "      <td>No</td>\n",
              "    </tr>\n",
              "    <tr>\n",
              "      <th>1</th>\n",
              "      <td>Spain</td>\n",
              "      <td>green</td>\n",
              "      <td>48000.0</td>\n",
              "      <td>Yes</td>\n",
              "    </tr>\n",
              "    <tr>\n",
              "      <th>2</th>\n",
              "      <td>Germany</td>\n",
              "      <td>yellow</td>\n",
              "      <td>54000.0</td>\n",
              "      <td>No</td>\n",
              "    </tr>\n",
              "    <tr>\n",
              "      <th>3</th>\n",
              "      <td>Spain</td>\n",
              "      <td>orange</td>\n",
              "      <td>61000.0</td>\n",
              "      <td>No</td>\n",
              "    </tr>\n",
              "    <tr>\n",
              "      <th>4</th>\n",
              "      <td>Germany</td>\n",
              "      <td>blue</td>\n",
              "      <td>NaN</td>\n",
              "      <td>Yes</td>\n",
              "    </tr>\n",
              "    <tr>\n",
              "      <th>5</th>\n",
              "      <td>France</td>\n",
              "      <td>yellow</td>\n",
              "      <td>58000.0</td>\n",
              "      <td>Yes</td>\n",
              "    </tr>\n",
              "    <tr>\n",
              "      <th>6</th>\n",
              "      <td>Spain</td>\n",
              "      <td>orange</td>\n",
              "      <td>52000.0</td>\n",
              "      <td>No</td>\n",
              "    </tr>\n",
              "    <tr>\n",
              "      <th>7</th>\n",
              "      <td>France</td>\n",
              "      <td>green</td>\n",
              "      <td>79000.0</td>\n",
              "      <td>Yes</td>\n",
              "    </tr>\n",
              "    <tr>\n",
              "      <th>8</th>\n",
              "      <td>Germany</td>\n",
              "      <td>yellow</td>\n",
              "      <td>83000.0</td>\n",
              "      <td>No</td>\n",
              "    </tr>\n",
              "    <tr>\n",
              "      <th>9</th>\n",
              "      <td>France</td>\n",
              "      <td>green</td>\n",
              "      <td>67000.0</td>\n",
              "      <td>Yes</td>\n",
              "    </tr>\n",
              "  </tbody>\n",
              "</table>\n",
              "</div>\n",
              "      <button class=\"colab-df-convert\" onclick=\"convertToInteractive('df-3f60adfa-b6f3-4029-828f-90c27a386c67')\"\n",
              "              title=\"Convert this dataframe to an interactive table.\"\n",
              "              style=\"display:none;\">\n",
              "        \n",
              "  <svg xmlns=\"http://www.w3.org/2000/svg\" height=\"24px\"viewBox=\"0 0 24 24\"\n",
              "       width=\"24px\">\n",
              "    <path d=\"M0 0h24v24H0V0z\" fill=\"none\"/>\n",
              "    <path d=\"M18.56 5.44l.94 2.06.94-2.06 2.06-.94-2.06-.94-.94-2.06-.94 2.06-2.06.94zm-11 1L8.5 8.5l.94-2.06 2.06-.94-2.06-.94L8.5 2.5l-.94 2.06-2.06.94zm10 10l.94 2.06.94-2.06 2.06-.94-2.06-.94-.94-2.06-.94 2.06-2.06.94z\"/><path d=\"M17.41 7.96l-1.37-1.37c-.4-.4-.92-.59-1.43-.59-.52 0-1.04.2-1.43.59L10.3 9.45l-7.72 7.72c-.78.78-.78 2.05 0 2.83L4 21.41c.39.39.9.59 1.41.59.51 0 1.02-.2 1.41-.59l7.78-7.78 2.81-2.81c.8-.78.8-2.07 0-2.86zM5.41 20L4 18.59l7.72-7.72 1.47 1.35L5.41 20z\"/>\n",
              "  </svg>\n",
              "      </button>\n",
              "      \n",
              "  <style>\n",
              "    .colab-df-container {\n",
              "      display:flex;\n",
              "      flex-wrap:wrap;\n",
              "      gap: 12px;\n",
              "    }\n",
              "\n",
              "    .colab-df-convert {\n",
              "      background-color: #E8F0FE;\n",
              "      border: none;\n",
              "      border-radius: 50%;\n",
              "      cursor: pointer;\n",
              "      display: none;\n",
              "      fill: #1967D2;\n",
              "      height: 32px;\n",
              "      padding: 0 0 0 0;\n",
              "      width: 32px;\n",
              "    }\n",
              "\n",
              "    .colab-df-convert:hover {\n",
              "      background-color: #E2EBFA;\n",
              "      box-shadow: 0px 1px 2px rgba(60, 64, 67, 0.3), 0px 1px 3px 1px rgba(60, 64, 67, 0.15);\n",
              "      fill: #174EA6;\n",
              "    }\n",
              "\n",
              "    [theme=dark] .colab-df-convert {\n",
              "      background-color: #3B4455;\n",
              "      fill: #D2E3FC;\n",
              "    }\n",
              "\n",
              "    [theme=dark] .colab-df-convert:hover {\n",
              "      background-color: #434B5C;\n",
              "      box-shadow: 0px 1px 3px 1px rgba(0, 0, 0, 0.15);\n",
              "      filter: drop-shadow(0px 1px 2px rgba(0, 0, 0, 0.3));\n",
              "      fill: #FFFFFF;\n",
              "    }\n",
              "  </style>\n",
              "\n",
              "      <script>\n",
              "        const buttonEl =\n",
              "          document.querySelector('#df-3f60adfa-b6f3-4029-828f-90c27a386c67 button.colab-df-convert');\n",
              "        buttonEl.style.display =\n",
              "          google.colab.kernel.accessAllowed ? 'block' : 'none';\n",
              "\n",
              "        async function convertToInteractive(key) {\n",
              "          const element = document.querySelector('#df-3f60adfa-b6f3-4029-828f-90c27a386c67');\n",
              "          const dataTable =\n",
              "            await google.colab.kernel.invokeFunction('convertToInteractive',\n",
              "                                                     [key], {});\n",
              "          if (!dataTable) return;\n",
              "\n",
              "          const docLinkHtml = 'Like what you see? Visit the ' +\n",
              "            '<a target=\"_blank\" href=https://colab.research.google.com/notebooks/data_table.ipynb>data table notebook</a>'\n",
              "            + ' to learn more about interactive tables.';\n",
              "          element.innerHTML = '';\n",
              "          dataTable['output_type'] = 'display_data';\n",
              "          await google.colab.output.renderOutput(dataTable, element);\n",
              "          const docLink = document.createElement('div');\n",
              "          docLink.innerHTML = docLinkHtml;\n",
              "          element.appendChild(docLink);\n",
              "        }\n",
              "      </script>\n",
              "    </div>\n",
              "  </div>\n",
              "  "
            ]
          },
          "metadata": {},
          "execution_count": 36
        }
      ]
    },
    {
      "cell_type": "code",
      "source": [],
      "metadata": {
        "id": "9bbx_0N35Uuc"
      },
      "execution_count": null,
      "outputs": []
    },
    {
      "cell_type": "code",
      "source": [
        "# Divide data into Independent and Dependent\n",
        "\n",
        "X = col_df.iloc[:, 0:-1].values\n",
        "y = col_df.iloc[:,-1].values\n",
        "X, y"
      ],
      "metadata": {
        "colab": {
          "base_uri": "https://localhost:8080/"
        },
        "id": "3F0psjlt5Omu",
        "outputId": "c9b1ff77-129b-4f50-985d-8ea8ae1e6b8d"
      },
      "execution_count": null,
      "outputs": [
        {
          "output_type": "execute_result",
          "data": {
            "text/plain": [
              "(array([['France', 'blue', 72000.0],\n",
              "        ['Spain', 'green', 48000.0],\n",
              "        ['Germany', 'yellow', 54000.0],\n",
              "        ['Spain', 'orange', 61000.0],\n",
              "        ['Germany', 'blue', nan],\n",
              "        ['France', 'yellow', 58000.0],\n",
              "        ['Spain', 'orange', 52000.0],\n",
              "        ['France', 'green', 79000.0],\n",
              "        ['Germany', 'yellow', 83000.0],\n",
              "        ['France', 'green', 67000.0]], dtype=object),\n",
              " array(['No', 'Yes', 'No', 'No', 'Yes', 'Yes', 'No', 'Yes', 'No', 'Yes'],\n",
              "       dtype=object))"
            ]
          },
          "metadata": {},
          "execution_count": 37
        }
      ]
    },
    {
      "cell_type": "code",
      "source": [
        "# Missing Data\n",
        "\n",
        "from sklearn.impute import SimpleImputer\n",
        "# https://scikit-learn.org/stable/modules/generated/sklearn.impute.SimpleImputer.html\n",
        "imputer = SimpleImputer(missing_values=np.nan, strategy='mean')\n",
        "imputer.fit(X[:,2:3])\n",
        "X[:,2:3]= imputer.transform(X[:,2:3])\n",
        "X"
      ],
      "metadata": {
        "colab": {
          "base_uri": "https://localhost:8080/"
        },
        "id": "6WtPALKq5Zes",
        "outputId": "02f8f80d-f837-4de4-e532-a2e996dbb748"
      },
      "execution_count": null,
      "outputs": [
        {
          "output_type": "execute_result",
          "data": {
            "text/plain": [
              "array([['France', 'blue', 72000.0],\n",
              "       ['Spain', 'green', 48000.0],\n",
              "       ['Germany', 'yellow', 54000.0],\n",
              "       ['Spain', 'orange', 61000.0],\n",
              "       ['Germany', 'blue', 63777.77777777778],\n",
              "       ['France', 'yellow', 58000.0],\n",
              "       ['Spain', 'orange', 52000.0],\n",
              "       ['France', 'green', 79000.0],\n",
              "       ['Germany', 'yellow', 83000.0],\n",
              "       ['France', 'green', 67000.0]], dtype=object)"
            ]
          },
          "metadata": {},
          "execution_count": 38
        }
      ]
    },
    {
      "cell_type": "code",
      "source": [
        "from IPython.utils.sysinfo import encoding\n",
        "# Categorical Data\n",
        "\n",
        "from sklearn.compose import ColumnTransformer\n",
        "# https://scikit-learn.org/stable/modules/generated/sklearn.compose.ColumnTransformer.html?highlight=sklearn+compose+columntransformer#sklearn.compose.ColumnTransformer\n",
        "from sklearn.preprocessing import OneHotEncoder\n",
        "# https://scikit-learn.org/stable/modules/generated/sklearn.preprocessing.OneHotEncoder.html?highlight=sklearn+preprocessing+onehotencoder#sklearn.preprocessing.OneHotEncoder\n",
        "ct = ColumnTransformer(transformers=[('encoder', OneHotEncoder(), [0, 1])], remainder='passthrough')\n",
        "\n",
        "X = np.array(ct.fit_transform(X))\n",
        "X"
      ],
      "metadata": {
        "colab": {
          "base_uri": "https://localhost:8080/"
        },
        "id": "Qm6aPDvm8A4U",
        "outputId": "ee3d9d3f-42d3-4ba9-ffff-e79d26557407"
      },
      "execution_count": null,
      "outputs": [
        {
          "output_type": "execute_result",
          "data": {
            "text/plain": [
              "array([[1.0, 0.0, 0.0, 1.0, 0.0, 0.0, 0.0, 72000.0],\n",
              "       [0.0, 0.0, 1.0, 0.0, 1.0, 0.0, 0.0, 48000.0],\n",
              "       [0.0, 1.0, 0.0, 0.0, 0.0, 0.0, 1.0, 54000.0],\n",
              "       [0.0, 0.0, 1.0, 0.0, 0.0, 1.0, 0.0, 61000.0],\n",
              "       [0.0, 1.0, 0.0, 1.0, 0.0, 0.0, 0.0, 63777.77777777778],\n",
              "       [1.0, 0.0, 0.0, 0.0, 0.0, 0.0, 1.0, 58000.0],\n",
              "       [0.0, 0.0, 1.0, 0.0, 0.0, 1.0, 0.0, 52000.0],\n",
              "       [1.0, 0.0, 0.0, 0.0, 1.0, 0.0, 0.0, 79000.0],\n",
              "       [0.0, 1.0, 0.0, 0.0, 0.0, 0.0, 1.0, 83000.0],\n",
              "       [1.0, 0.0, 0.0, 0.0, 1.0, 0.0, 0.0, 67000.0]], dtype=object)"
            ]
          },
          "metadata": {},
          "execution_count": 39
        }
      ]
    },
    {
      "cell_type": "code",
      "source": [
        "from sklearn.preprocessing import LabelEncoder\n",
        "# https://scikit-learn.org/stable/modules/generated/sklearn.preprocessing.LabelEncoder.html?highlight=sklearn+preprocessing+labelencoder#sklearn.preprocessing.LabelEncoder\n",
        "le = LabelEncoder()\n",
        "y = le.fit_transform(y)\n",
        "y"
      ],
      "metadata": {
        "colab": {
          "base_uri": "https://localhost:8080/"
        },
        "id": "jLhD3Jaj8g4T",
        "outputId": "4e7bb9a9-bfec-454b-fc80-3e783d0360e6"
      },
      "execution_count": null,
      "outputs": [
        {
          "output_type": "execute_result",
          "data": {
            "text/plain": [
              "array([0, 1, 0, 0, 1, 1, 0, 1, 0, 1])"
            ]
          },
          "metadata": {},
          "execution_count": 40
        }
      ]
    },
    {
      "cell_type": "code",
      "source": [
        "# Train and Test Split\n",
        "\n",
        "from sklearn.model_selection import train_test_split\n",
        "X_train, X_test, y_train, y_test = train_test_split(X, y, train_size=0.8, random_state=0)\n",
        "# https://scikit-learn.org/stable/modules/generated/sklearn.model_selection.train_test_split.html?highlight=sklearn+train_test_split#sklearn.model_selection.train_test_split\n",
        "# X_train, X_test, y_train, y_test = train_test_split(X, y, test_size=0.2, random_state=0)"
      ],
      "metadata": {
        "id": "Zf24gOTZ8rAk"
      },
      "execution_count": null,
      "outputs": []
    },
    {
      "cell_type": "code",
      "source": [
        "from sklearn.preprocessing import StandardScaler\n",
        "sc = StandardScaler()\n",
        "X_train[:, 7:] = sc.fit_transform(X_train[:, 7:])\n",
        "X_test[:, 7:] = sc.transform(X_test[:, 7:])"
      ],
      "metadata": {
        "id": "s4YIoT_M8y2L"
      },
      "execution_count": null,
      "outputs": []
    },
    {
      "cell_type": "code",
      "source": [
        "X_train, X_test, y_train, y_test"
      ],
      "metadata": {
        "id": "NJcQGPXs9Gk1",
        "outputId": "43e74e44-8d48-4387-f246-2f1e7412d8ed",
        "colab": {
          "base_uri": "https://localhost:8080/"
        }
      },
      "execution_count": null,
      "outputs": [
        {
          "output_type": "execute_result",
          "data": {
            "text/plain": [
              "(array([[0.0, 1.0, 0.0, 1.0, 0.0, 0.0, 0.0, 0.1238147854838185],\n",
              "        [1.0, 0.0, 0.0, 0.0, 1.0, 0.0, 0.0, 0.4617563176278856],\n",
              "        [0.0, 0.0, 1.0, 0.0, 1.0, 0.0, 0.0, -1.5309334063940294],\n",
              "        [0.0, 0.0, 1.0, 0.0, 0.0, 1.0, 0.0, -1.1114197802841526],\n",
              "        [1.0, 0.0, 0.0, 0.0, 1.0, 0.0, 0.0, 1.7202971959575162],\n",
              "        [0.0, 0.0, 1.0, 0.0, 0.0, 1.0, 0.0, -0.16751412153692966],\n",
              "        [1.0, 0.0, 0.0, 1.0, 0.0, 0.0, 0.0, 0.9861483502652316],\n",
              "        [1.0, 0.0, 0.0, 0.0, 0.0, 0.0, 1.0, -0.48214934111933727]],\n",
              "       dtype=object),\n",
              " array([[0.0, 1.0, 0.0, 0.0, 0.0, 0.0, 1.0, -0.9016629672292141],\n",
              "        [0.0, 1.0, 0.0, 0.0, 0.0, 0.0, 1.0, 2.139810822067393]],\n",
              "       dtype=object),\n",
              " array([1, 1, 1, 0, 1, 0, 0, 1]),\n",
              " array([0, 0]))"
            ]
          },
          "metadata": {},
          "execution_count": 44
        }
      ]
    }
  ]
}