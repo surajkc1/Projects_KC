{
  "nbformat": 4,
  "nbformat_minor": 0,
  "metadata": {
    "colab": {
      "provenance": [],
      "authorship_tag": "ABX9TyNljxLvT7xhBItwNqvzKfq5",
      "include_colab_link": true
    },
    "kernelspec": {
      "name": "python3",
      "display_name": "Python 3"
    },
    "language_info": {
      "name": "python"
    }
  },
  "cells": [
    {
      "cell_type": "markdown",
      "metadata": {
        "id": "view-in-github",
        "colab_type": "text"
      },
      "source": [
        "<a href=\"https://colab.research.google.com/github/surajkc1/AI_Assignment3/blob/main/Linear_regression_Suraj_KC.ipynb\" target=\"_parent\"><img src=\"https://colab.research.google.com/assets/colab-badge.svg\" alt=\"Open In Colab\"/></a>"
      ]
    },
    {
      "cell_type": "markdown",
      "source": [
        "The data set used for linear regression in this analysis is related to environmental aspects. Land surface temperature is an environmental factor that is different than air temperature. LSTs are important for environmental studies and helps us to know about the impact of climate changes in the land and we can link it with agriculture, forestry and natural resource management. The altitude is the another factor we are using for this analysis. Specific locations with different altitudes are analysed with the Land surface temperature of 2020. This whole analysis will help us to know how strong is the relationship between land surface temperature and altitude. We will be basically building the model, deriving plot equation and calculating Mean square of error and intrepretation will be made.**bold text**"
      ],
      "metadata": {
        "id": "J3Sz90SrkNWj"
      }
    },
    {
      "cell_type": "code",
      "source": [
        "import pandas as pd #pandas for dataframes\n",
        "from sklearn.linear_model import LinearRegression #sklearn.linear_model for the Linear Regression model \n",
        "import sklearn.metrics as metrics #to measure model performance\n",
        "import matplotlib.pyplot as plt #for plotting\n",
        "from sklearn.cluster import KMeans #for kmeans algorithm\n",
        "import statsmodels.api as sm\n",
        "plt.rcParams['figure.figsize'] = [15,8] #defining plot size"
      ],
      "metadata": {
        "id": "eCJWX2Q9kLZd"
      },
      "execution_count": null,
      "outputs": []
    },
    {
      "cell_type": "code",
      "source": [
        "df = pd.read_csv(\"https://raw.githubusercontent.com/surajkc1/AI_Assignment3/main/Book4.csv\") #opening the data from source. The data set contains DEM, LST 2020 and LST 2010, but we will only be using LST 2020 and DEM for this exercise.\n",
        "df.head() #visualizing the data"
      ],
      "metadata": {
        "colab": {
          "base_uri": "https://localhost:8080/",
          "height": 206
        },
        "id": "1wpSE-VRGnMO",
        "outputId": "df703ae2-376b-476b-e093-1f3bf6fca715"
      },
      "execution_count": null,
      "outputs": [
        {
          "output_type": "execute_result",
          "data": {
            "text/plain": [
              "   SummerLST2020celsius  Summer2010 Celsius         DEM\n",
              "0              28.49753            30.99764   624.06700\n",
              "1              24.06225            32.95993  1148.15400\n",
              "2              30.05037            34.32496   661.11480\n",
              "3              22.31212            27.03570  2054.69700\n",
              "4              30.50989            29.76549    96.52811"
            ],
            "text/html": [
              "\n",
              "  <div id=\"df-c25600f8-a95f-4c8c-af30-7f5865b0b936\">\n",
              "    <div class=\"colab-df-container\">\n",
              "      <div>\n",
              "<style scoped>\n",
              "    .dataframe tbody tr th:only-of-type {\n",
              "        vertical-align: middle;\n",
              "    }\n",
              "\n",
              "    .dataframe tbody tr th {\n",
              "        vertical-align: top;\n",
              "    }\n",
              "\n",
              "    .dataframe thead th {\n",
              "        text-align: right;\n",
              "    }\n",
              "</style>\n",
              "<table border=\"1\" class=\"dataframe\">\n",
              "  <thead>\n",
              "    <tr style=\"text-align: right;\">\n",
              "      <th></th>\n",
              "      <th>SummerLST2020celsius</th>\n",
              "      <th>Summer2010 Celsius</th>\n",
              "      <th>DEM</th>\n",
              "    </tr>\n",
              "  </thead>\n",
              "  <tbody>\n",
              "    <tr>\n",
              "      <th>0</th>\n",
              "      <td>28.49753</td>\n",
              "      <td>30.99764</td>\n",
              "      <td>624.06700</td>\n",
              "    </tr>\n",
              "    <tr>\n",
              "      <th>1</th>\n",
              "      <td>24.06225</td>\n",
              "      <td>32.95993</td>\n",
              "      <td>1148.15400</td>\n",
              "    </tr>\n",
              "    <tr>\n",
              "      <th>2</th>\n",
              "      <td>30.05037</td>\n",
              "      <td>34.32496</td>\n",
              "      <td>661.11480</td>\n",
              "    </tr>\n",
              "    <tr>\n",
              "      <th>3</th>\n",
              "      <td>22.31212</td>\n",
              "      <td>27.03570</td>\n",
              "      <td>2054.69700</td>\n",
              "    </tr>\n",
              "    <tr>\n",
              "      <th>4</th>\n",
              "      <td>30.50989</td>\n",
              "      <td>29.76549</td>\n",
              "      <td>96.52811</td>\n",
              "    </tr>\n",
              "  </tbody>\n",
              "</table>\n",
              "</div>\n",
              "      <button class=\"colab-df-convert\" onclick=\"convertToInteractive('df-c25600f8-a95f-4c8c-af30-7f5865b0b936')\"\n",
              "              title=\"Convert this dataframe to an interactive table.\"\n",
              "              style=\"display:none;\">\n",
              "        \n",
              "  <svg xmlns=\"http://www.w3.org/2000/svg\" height=\"24px\"viewBox=\"0 0 24 24\"\n",
              "       width=\"24px\">\n",
              "    <path d=\"M0 0h24v24H0V0z\" fill=\"none\"/>\n",
              "    <path d=\"M18.56 5.44l.94 2.06.94-2.06 2.06-.94-2.06-.94-.94-2.06-.94 2.06-2.06.94zm-11 1L8.5 8.5l.94-2.06 2.06-.94-2.06-.94L8.5 2.5l-.94 2.06-2.06.94zm10 10l.94 2.06.94-2.06 2.06-.94-2.06-.94-.94-2.06-.94 2.06-2.06.94z\"/><path d=\"M17.41 7.96l-1.37-1.37c-.4-.4-.92-.59-1.43-.59-.52 0-1.04.2-1.43.59L10.3 9.45l-7.72 7.72c-.78.78-.78 2.05 0 2.83L4 21.41c.39.39.9.59 1.41.59.51 0 1.02-.2 1.41-.59l7.78-7.78 2.81-2.81c.8-.78.8-2.07 0-2.86zM5.41 20L4 18.59l7.72-7.72 1.47 1.35L5.41 20z\"/>\n",
              "  </svg>\n",
              "      </button>\n",
              "      \n",
              "  <style>\n",
              "    .colab-df-container {\n",
              "      display:flex;\n",
              "      flex-wrap:wrap;\n",
              "      gap: 12px;\n",
              "    }\n",
              "\n",
              "    .colab-df-convert {\n",
              "      background-color: #E8F0FE;\n",
              "      border: none;\n",
              "      border-radius: 50%;\n",
              "      cursor: pointer;\n",
              "      display: none;\n",
              "      fill: #1967D2;\n",
              "      height: 32px;\n",
              "      padding: 0 0 0 0;\n",
              "      width: 32px;\n",
              "    }\n",
              "\n",
              "    .colab-df-convert:hover {\n",
              "      background-color: #E2EBFA;\n",
              "      box-shadow: 0px 1px 2px rgba(60, 64, 67, 0.3), 0px 1px 3px 1px rgba(60, 64, 67, 0.15);\n",
              "      fill: #174EA6;\n",
              "    }\n",
              "\n",
              "    [theme=dark] .colab-df-convert {\n",
              "      background-color: #3B4455;\n",
              "      fill: #D2E3FC;\n",
              "    }\n",
              "\n",
              "    [theme=dark] .colab-df-convert:hover {\n",
              "      background-color: #434B5C;\n",
              "      box-shadow: 0px 1px 3px 1px rgba(0, 0, 0, 0.15);\n",
              "      filter: drop-shadow(0px 1px 2px rgba(0, 0, 0, 0.3));\n",
              "      fill: #FFFFFF;\n",
              "    }\n",
              "  </style>\n",
              "\n",
              "      <script>\n",
              "        const buttonEl =\n",
              "          document.querySelector('#df-c25600f8-a95f-4c8c-af30-7f5865b0b936 button.colab-df-convert');\n",
              "        buttonEl.style.display =\n",
              "          google.colab.kernel.accessAllowed ? 'block' : 'none';\n",
              "\n",
              "        async function convertToInteractive(key) {\n",
              "          const element = document.querySelector('#df-c25600f8-a95f-4c8c-af30-7f5865b0b936');\n",
              "          const dataTable =\n",
              "            await google.colab.kernel.invokeFunction('convertToInteractive',\n",
              "                                                     [key], {});\n",
              "          if (!dataTable) return;\n",
              "\n",
              "          const docLinkHtml = 'Like what you see? Visit the ' +\n",
              "            '<a target=\"_blank\" href=https://colab.research.google.com/notebooks/data_table.ipynb>data table notebook</a>'\n",
              "            + ' to learn more about interactive tables.';\n",
              "          element.innerHTML = '';\n",
              "          dataTable['output_type'] = 'display_data';\n",
              "          await google.colab.output.renderOutput(dataTable, element);\n",
              "          const docLink = document.createElement('div');\n",
              "          docLink.innerHTML = docLinkHtml;\n",
              "          element.appendChild(docLink);\n",
              "        }\n",
              "      </script>\n",
              "    </div>\n",
              "  </div>\n",
              "  "
            ]
          },
          "metadata": {},
          "execution_count": 10
        }
      ]
    },
    {
      "cell_type": "markdown",
      "source": [
        "As we want to use the altitude to predict the LST, under the general assumption that LST decreases as Altitude increases. The altitude points i.e. DEM will be the X variable in the linear regression equation whereas LST 2020 will be the Y variable of the equation."
      ],
      "metadata": {
        "id": "3viKobO3mAD4"
      }
    },
    {
      "cell_type": "code",
      "source": [
        "X = df[['DEM']]\n",
        "Y = df['SummerLST2020celsius']"
      ],
      "metadata": {
        "id": "zJ4qRxZDG05_"
      },
      "execution_count": null,
      "outputs": []
    },
    {
      "cell_type": "markdown",
      "source": [
        "Now we will build the model on basis of X and Y variables we set above to fit a linear regression model. The model's performance will also be compared for predictions"
      ],
      "metadata": {
        "id": "QL2sCA73mgq4"
      }
    },
    {
      "cell_type": "code",
      "source": [
        "linear_regressor = LinearRegression() #linear regression model\n",
        "linear_regressor.fit(X, Y) #fit model\n",
        "Y_pred = linear_regressor.predict(X) #make predictions"
      ],
      "metadata": {
        "id": "wc__l1NHHDBd"
      },
      "execution_count": null,
      "outputs": []
    },
    {
      "cell_type": "markdown",
      "source": [
        "Now we will Plot the equation "
      ],
      "metadata": {
        "id": "38t3gAyqm2Gn"
      }
    },
    {
      "cell_type": "code",
      "source": [
        "plt.scatter(X, Y) #plot points\n",
        "plt.plot(X, Y_pred, color='red') #plot regression line\n",
        "plt.show() #display plot"
      ],
      "metadata": {
        "colab": {
          "base_uri": "https://localhost:8080/",
          "height": 483
        },
        "id": "wCr4SsmeHFKz",
        "outputId": "c9887bf2-2517-47ce-e128-4b9bbdccdb37"
      },
      "execution_count": null,
      "outputs": [
        {
          "output_type": "display_data",
          "data": {
            "text/plain": [
              "<Figure size 1080x576 with 1 Axes>"
            ],
            "image/png": "[encoded data removed]"
          },
          "metadata": {
            "needs_background": "light"
          }
        }
      ]
    },
    {
      "cell_type": "markdown",
      "source": [
        "Now Mean Square error will be calculated which is a metric to evaluate the performances of the regression model. Generally, lower the MSE, stronger the model is believed."
      ],
      "metadata": {
        "id": "4ReFRzHUm_h2"
      }
    },
    {
      "cell_type": "code",
      "source": [
        "metrics.mean_squared_error(Y, Y_pred) #calculating Mean squared error"
      ],
      "metadata": {
        "colab": {
          "base_uri": "https://localhost:8080/"
        },
        "id": "PhXp5SebH2Fe",
        "outputId": "7ec82cb1-70e2-40d7-c361-bc012de3f597"
      },
      "execution_count": null,
      "outputs": [
        {
          "output_type": "execute_result",
          "data": {
            "text/plain": [
              "4.623072361355673"
            ]
          },
          "metadata": {},
          "execution_count": 7
        }
      ]
    },
    {
      "cell_type": "markdown",
      "source": [
        "The low MSE value represents the strong relationship of LST and DEM points."
      ],
      "metadata": {
        "id": "fc2xQg2enYYS"
      }
    },
    {
      "cell_type": "markdown",
      "source": [
        "Creating equation"
      ],
      "metadata": {
        "id": "5ezB_2EynmAT"
      }
    },
    {
      "cell_type": "code",
      "source": [
        "print('intercept:', linear_regressor.intercept_)\n",
        "print('slope:', linear_regressor.coef_[0])"
      ],
      "metadata": {
        "colab": {
          "base_uri": "https://localhost:8080/"
        },
        "id": "d64HpS87H8qg",
        "outputId": "91b5767d-35c4-4892-be5a-3e8b4dc77f90"
      },
      "execution_count": null,
      "outputs": [
        {
          "output_type": "stream",
          "name": "stdout",
          "text": [
            "intercept: 31.820224645505007\n",
            "slope: -0.004160523437439315\n"
          ]
        }
      ]
    },
    {
      "cell_type": "markdown",
      "source": [
        "Therefore the equation will be  y= mx+c\n",
        "where y is dependent variable, m= slope, x= independent variable and c = constant/intercept.\n",
        "Hence utilizing the above obtained values model becomes:\n",
        "y= (-0.004160523437439315)x+(31.820224645505007)\n",
        "\n",
        "For example if we , want to know the LST of altitude of 2000m, \n",
        "LST = (-0.004160523437439315)*(2000)+(31.820224645505007)\n",
        "= 23.46\n",
        "\n",
        "and this model is moderatly strong(on basis of MSE obtained)"
      ],
      "metadata": {
        "id": "oIv6Kel8nnLh"
      }
    }
  ]
}